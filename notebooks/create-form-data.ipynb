{
 "cells": [
  {
   "cell_type": "code",
   "execution_count": 1,
   "id": "1803b0c2",
   "metadata": {},
   "outputs": [
    {
     "name": "stdout",
     "output_type": "stream",
     "text": [
      "Collecting en-core-web-sm==3.7.1\n",
      "  Downloading https://github.com/explosion/spacy-models/releases/download/en_core_web_sm-3.7.1/en_core_web_sm-3.7.1-py3-none-any.whl (12.8 MB)\n",
      "\u001b[2K     \u001b[90m━━━━━━━━━━━━━━━━━━━━━━━━━━━━━━━━━━━━━━━━\u001b[0m \u001b[32m12.8/12.8 MB\u001b[0m \u001b[31m52.0 MB/s\u001b[0m eta \u001b[36m0:00:00\u001b[0m \u001b[36m0:00:01\u001b[0m\n",
      "\u001b[?25hRequirement already satisfied: spacy<3.8.0,>=3.7.2 in /Users/dipankarsrirag/Desktop/Projects.nosync/dialect-understanding/.venv/lib/python3.11/site-packages (from en-core-web-sm==3.7.1) (3.7.4)\n",
      "Requirement already satisfied: spacy-legacy<3.1.0,>=3.0.11 in /Users/dipankarsrirag/Desktop/Projects.nosync/dialect-understanding/.venv/lib/python3.11/site-packages (from spacy<3.8.0,>=3.7.2->en-core-web-sm==3.7.1) (3.0.12)\n",
      "Requirement already satisfied: spacy-loggers<2.0.0,>=1.0.0 in /Users/dipankarsrirag/Desktop/Projects.nosync/dialect-understanding/.venv/lib/python3.11/site-packages (from spacy<3.8.0,>=3.7.2->en-core-web-sm==3.7.1) (1.0.5)\n",
      "Requirement already satisfied: murmurhash<1.1.0,>=0.28.0 in /Users/dipankarsrirag/Desktop/Projects.nosync/dialect-understanding/.venv/lib/python3.11/site-packages (from spacy<3.8.0,>=3.7.2->en-core-web-sm==3.7.1) (1.0.12)\n",
      "Requirement already satisfied: cymem<2.1.0,>=2.0.2 in /Users/dipankarsrirag/Desktop/Projects.nosync/dialect-understanding/.venv/lib/python3.11/site-packages (from spacy<3.8.0,>=3.7.2->en-core-web-sm==3.7.1) (2.0.11)\n",
      "Requirement already satisfied: preshed<3.1.0,>=3.0.2 in /Users/dipankarsrirag/Desktop/Projects.nosync/dialect-understanding/.venv/lib/python3.11/site-packages (from spacy<3.8.0,>=3.7.2->en-core-web-sm==3.7.1) (3.0.9)\n",
      "Requirement already satisfied: thinc<8.3.0,>=8.2.2 in /Users/dipankarsrirag/Desktop/Projects.nosync/dialect-understanding/.venv/lib/python3.11/site-packages (from spacy<3.8.0,>=3.7.2->en-core-web-sm==3.7.1) (8.2.5)\n",
      "Requirement already satisfied: wasabi<1.2.0,>=0.9.1 in /Users/dipankarsrirag/Desktop/Projects.nosync/dialect-understanding/.venv/lib/python3.11/site-packages (from spacy<3.8.0,>=3.7.2->en-core-web-sm==3.7.1) (1.1.3)\n",
      "Requirement already satisfied: srsly<3.0.0,>=2.4.3 in /Users/dipankarsrirag/Desktop/Projects.nosync/dialect-understanding/.venv/lib/python3.11/site-packages (from spacy<3.8.0,>=3.7.2->en-core-web-sm==3.7.1) (2.5.1)\n",
      "Requirement already satisfied: catalogue<2.1.0,>=2.0.6 in /Users/dipankarsrirag/Desktop/Projects.nosync/dialect-understanding/.venv/lib/python3.11/site-packages (from spacy<3.8.0,>=3.7.2->en-core-web-sm==3.7.1) (2.0.10)\n",
      "Requirement already satisfied: weasel<0.4.0,>=0.1.0 in /Users/dipankarsrirag/Desktop/Projects.nosync/dialect-understanding/.venv/lib/python3.11/site-packages (from spacy<3.8.0,>=3.7.2->en-core-web-sm==3.7.1) (0.3.4)\n",
      "Requirement already satisfied: typer<0.10.0,>=0.3.0 in /Users/dipankarsrirag/Desktop/Projects.nosync/dialect-understanding/.venv/lib/python3.11/site-packages (from spacy<3.8.0,>=3.7.2->en-core-web-sm==3.7.1) (0.9.4)\n",
      "Requirement already satisfied: smart-open<7.0.0,>=5.2.1 in /Users/dipankarsrirag/Desktop/Projects.nosync/dialect-understanding/.venv/lib/python3.11/site-packages (from spacy<3.8.0,>=3.7.2->en-core-web-sm==3.7.1) (6.4.0)\n",
      "Requirement already satisfied: tqdm<5.0.0,>=4.38.0 in /Users/dipankarsrirag/Desktop/Projects.nosync/dialect-understanding/.venv/lib/python3.11/site-packages (from spacy<3.8.0,>=3.7.2->en-core-web-sm==3.7.1) (4.67.1)\n",
      "Requirement already satisfied: requests<3.0.0,>=2.13.0 in /Users/dipankarsrirag/Desktop/Projects.nosync/dialect-understanding/.venv/lib/python3.11/site-packages (from spacy<3.8.0,>=3.7.2->en-core-web-sm==3.7.1) (2.32.3)\n",
      "Requirement already satisfied: pydantic!=1.8,!=1.8.1,<3.0.0,>=1.7.4 in /Users/dipankarsrirag/Desktop/Projects.nosync/dialect-understanding/.venv/lib/python3.11/site-packages (from spacy<3.8.0,>=3.7.2->en-core-web-sm==3.7.1) (2.11.0a2)\n",
      "Requirement already satisfied: jinja2 in /Users/dipankarsrirag/Desktop/Projects.nosync/dialect-understanding/.venv/lib/python3.11/site-packages (from spacy<3.8.0,>=3.7.2->en-core-web-sm==3.7.1) (3.1.5)\n",
      "Requirement already satisfied: setuptools in /Users/dipankarsrirag/Desktop/Projects.nosync/dialect-understanding/.venv/lib/python3.11/site-packages (from spacy<3.8.0,>=3.7.2->en-core-web-sm==3.7.1) (65.5.0)\n",
      "Requirement already satisfied: packaging>=20.0 in /Users/dipankarsrirag/Desktop/Projects.nosync/dialect-understanding/.venv/lib/python3.11/site-packages (from spacy<3.8.0,>=3.7.2->en-core-web-sm==3.7.1) (24.2)\n",
      "Requirement already satisfied: langcodes<4.0.0,>=3.2.0 in /Users/dipankarsrirag/Desktop/Projects.nosync/dialect-understanding/.venv/lib/python3.11/site-packages (from spacy<3.8.0,>=3.7.2->en-core-web-sm==3.7.1) (3.5.0)\n",
      "Requirement already satisfied: numpy>=1.19.0 in /Users/dipankarsrirag/Desktop/Projects.nosync/dialect-understanding/.venv/lib/python3.11/site-packages (from spacy<3.8.0,>=3.7.2->en-core-web-sm==3.7.1) (1.26.4)\n",
      "Requirement already satisfied: language-data>=1.2 in /Users/dipankarsrirag/Desktop/Projects.nosync/dialect-understanding/.venv/lib/python3.11/site-packages (from langcodes<4.0.0,>=3.2.0->spacy<3.8.0,>=3.7.2->en-core-web-sm==3.7.1) (1.3.0)\n",
      "Requirement already satisfied: annotated-types>=0.6.0 in /Users/dipankarsrirag/Desktop/Projects.nosync/dialect-understanding/.venv/lib/python3.11/site-packages (from pydantic!=1.8,!=1.8.1,<3.0.0,>=1.7.4->spacy<3.8.0,>=3.7.2->en-core-web-sm==3.7.1) (0.7.0)\n",
      "Requirement already satisfied: pydantic-core==2.29.0 in /Users/dipankarsrirag/Desktop/Projects.nosync/dialect-understanding/.venv/lib/python3.11/site-packages (from pydantic!=1.8,!=1.8.1,<3.0.0,>=1.7.4->spacy<3.8.0,>=3.7.2->en-core-web-sm==3.7.1) (2.29.0)\n",
      "Requirement already satisfied: typing-extensions>=4.12.2 in /Users/dipankarsrirag/Desktop/Projects.nosync/dialect-understanding/.venv/lib/python3.11/site-packages (from pydantic!=1.8,!=1.8.1,<3.0.0,>=1.7.4->spacy<3.8.0,>=3.7.2->en-core-web-sm==3.7.1) (4.12.2)\n",
      "Requirement already satisfied: charset-normalizer<4,>=2 in /Users/dipankarsrirag/Desktop/Projects.nosync/dialect-understanding/.venv/lib/python3.11/site-packages (from requests<3.0.0,>=2.13.0->spacy<3.8.0,>=3.7.2->en-core-web-sm==3.7.1) (3.4.1)\n",
      "Requirement already satisfied: idna<4,>=2.5 in /Users/dipankarsrirag/Desktop/Projects.nosync/dialect-understanding/.venv/lib/python3.11/site-packages (from requests<3.0.0,>=2.13.0->spacy<3.8.0,>=3.7.2->en-core-web-sm==3.7.1) (3.10)\n",
      "Requirement already satisfied: urllib3<3,>=1.21.1 in /Users/dipankarsrirag/Desktop/Projects.nosync/dialect-understanding/.venv/lib/python3.11/site-packages (from requests<3.0.0,>=2.13.0->spacy<3.8.0,>=3.7.2->en-core-web-sm==3.7.1) (2.3.0)\n",
      "Requirement already satisfied: certifi>=2017.4.17 in /Users/dipankarsrirag/Desktop/Projects.nosync/dialect-understanding/.venv/lib/python3.11/site-packages (from requests<3.0.0,>=2.13.0->spacy<3.8.0,>=3.7.2->en-core-web-sm==3.7.1) (2025.1.31)\n",
      "Requirement already satisfied: blis<0.8.0,>=0.7.8 in /Users/dipankarsrirag/Desktop/Projects.nosync/dialect-understanding/.venv/lib/python3.11/site-packages (from thinc<8.3.0,>=8.2.2->spacy<3.8.0,>=3.7.2->en-core-web-sm==3.7.1) (0.7.11)\n",
      "Requirement already satisfied: confection<1.0.0,>=0.0.1 in /Users/dipankarsrirag/Desktop/Projects.nosync/dialect-understanding/.venv/lib/python3.11/site-packages (from thinc<8.3.0,>=8.2.2->spacy<3.8.0,>=3.7.2->en-core-web-sm==3.7.1) (0.1.5)\n",
      "Requirement already satisfied: click<9.0.0,>=7.1.1 in /Users/dipankarsrirag/Desktop/Projects.nosync/dialect-understanding/.venv/lib/python3.11/site-packages (from typer<0.10.0,>=0.3.0->spacy<3.8.0,>=3.7.2->en-core-web-sm==3.7.1) (8.1.8)\n",
      "Requirement already satisfied: cloudpathlib<0.17.0,>=0.7.0 in /Users/dipankarsrirag/Desktop/Projects.nosync/dialect-understanding/.venv/lib/python3.11/site-packages (from weasel<0.4.0,>=0.1.0->spacy<3.8.0,>=3.7.2->en-core-web-sm==3.7.1) (0.16.0)\n",
      "Requirement already satisfied: MarkupSafe>=2.0 in /Users/dipankarsrirag/Desktop/Projects.nosync/dialect-understanding/.venv/lib/python3.11/site-packages (from jinja2->spacy<3.8.0,>=3.7.2->en-core-web-sm==3.7.1) (3.0.2)\n",
      "Requirement already satisfied: marisa-trie>=1.1.0 in /Users/dipankarsrirag/Desktop/Projects.nosync/dialect-understanding/.venv/lib/python3.11/site-packages (from language-data>=1.2->langcodes<4.0.0,>=3.2.0->spacy<3.8.0,>=3.7.2->en-core-web-sm==3.7.1) (1.2.1)\n",
      "\u001b[38;5;2m✔ Download and installation successful\u001b[0m\n",
      "You can now load the package via spacy.load('en_core_web_sm')\n",
      "\u001b[38;5;3m⚠ Restart to reload dependencies\u001b[0m\n",
      "If you are in a Jupyter or Colab notebook, you may need to restart Python in\n",
      "order to load all the package's dependencies. You can do this by selecting the\n",
      "'Restart kernel' or 'Restart runtime' option.\n"
     ]
    },
    {
     "name": "stderr",
     "output_type": "stream",
     "text": [
      "[nltk_data] Error loading cmudict: <urlopen error [SSL:\n",
      "[nltk_data]     CERTIFICATE_VERIFY_FAILED] certificate verify failed:\n",
      "[nltk_data]     unable to get local issuer certificate (_ssl.c:1006)>\n",
      "[nltk_data] Error loading wordnet: <urlopen error [SSL:\n",
      "[nltk_data]     CERTIFICATE_VERIFY_FAILED] certificate verify failed:\n",
      "[nltk_data]     unable to get local issuer certificate (_ssl.c:1006)>\n"
     ]
    }
   ],
   "source": [
    "import pandas as pd\n",
    "from multivalue import Dialects\n",
    "from tqdm import tqdm\n",
    "tqdm.pandas()"
   ]
  },
  {
   "cell_type": "code",
   "execution_count": 2,
   "id": "a00cd03f",
   "metadata": {},
   "outputs": [
    {
     "data": {
      "text/plain": [
       "<multivalue.Dialects.IndianDialect at 0x17b448050>"
      ]
     },
     "execution_count": 2,
     "metadata": {},
     "output_type": "execute_result"
    }
   ],
   "source": [
    "indian = Dialects.IndianDialect()\n",
    "indian"
   ]
  },
  {
   "cell_type": "code",
   "execution_count": 3,
   "id": "1f44da60",
   "metadata": {},
   "outputs": [],
   "source": [
    "data = pd.read_csv(\"../data/ind.csv\")[[\"text\", \"translation\"]]\n",
    "data.dropna(inplace=True)\n",
    "data = data.reset_index(drop=True)"
   ]
  },
  {
   "cell_type": "code",
   "execution_count": 4,
   "id": "6633fe17",
   "metadata": {},
   "outputs": [],
   "source": [
    "def transform(text):\n",
    "    try:\n",
    "        return indian.transform(text)\n",
    "    except:\n",
    "        return \"ERROR\""
   ]
  },
  {
   "cell_type": "code",
   "execution_count": 5,
   "id": "4c482d0b",
   "metadata": {},
   "outputs": [
    {
     "name": "stderr",
     "output_type": "stream",
     "text": [
      "100%|██████████| 573/573 [06:34<00:00,  1.45it/s]\n"
     ]
    }
   ],
   "source": [
    "data[\"multi\"] = data[\"translation\"].progress_apply(lambda x : transform(x))"
   ]
  },
  {
   "cell_type": "code",
   "execution_count": null,
   "id": "773afd4c",
   "metadata": {},
   "outputs": [
    {
     "data": {
      "text/html": [
       "<div>\n",
       "<style scoped>\n",
       "    .dataframe tbody tr th:only-of-type {\n",
       "        vertical-align: middle;\n",
       "    }\n",
       "\n",
       "    .dataframe tbody tr th {\n",
       "        vertical-align: top;\n",
       "    }\n",
       "\n",
       "    .dataframe thead th {\n",
       "        text-align: right;\n",
       "    }\n",
       "</style>\n",
       "<table border=\"1\" class=\"dataframe\">\n",
       "  <thead>\n",
       "    <tr style=\"text-align: right;\">\n",
       "      <th></th>\n",
       "      <th>text</th>\n",
       "      <th>translation</th>\n",
       "      <th>multi</th>\n",
       "    </tr>\n",
       "  </thead>\n",
       "  <tbody>\n",
       "    <tr>\n",
       "      <th>0</th>\n",
       "      <td>In your college?</td>\n",
       "      <td>Is that in your college?</td>\n",
       "      <td>In your college Is that?</td>\n",
       "    </tr>\n",
       "    <tr>\n",
       "      <th>1</th>\n",
       "      <td>Regional language no?</td>\n",
       "      <td>It is a regional language, isn't it?</td>\n",
       "      <td>Is the regional language, isn't?</td>\n",
       "    </tr>\n",
       "    <tr>\n",
       "      <th>2</th>\n",
       "      <td>Oh your medicine?</td>\n",
       "      <td>Is this your medicine?</td>\n",
       "      <td>This your medicine?</td>\n",
       "    </tr>\n",
       "    <tr>\n",
       "      <th>3</th>\n",
       "      <td>For simplest one?</td>\n",
       "      <td>Do you mean the simplest one?</td>\n",
       "      <td>You mean the simplest one, isn't it?</td>\n",
       "    </tr>\n",
       "    <tr>\n",
       "      <th>4</th>\n",
       "      <td>Yeah. Which patil.</td>\n",
       "      <td>Yeah. Which one, Patil?</td>\n",
       "      <td>Yeah. Which one, Patil?</td>\n",
       "    </tr>\n",
       "    <tr>\n",
       "      <th>...</th>\n",
       "      <td>...</td>\n",
       "      <td>...</td>\n",
       "      <td>...</td>\n",
       "    </tr>\n",
       "    <tr>\n",
       "      <th>563</th>\n",
       "      <td>That girl she had to go in that common lavotor...</td>\n",
       "      <td>The woman had to use a shared toilet, as is co...</td>\n",
       "      <td>Woman had had to use one shared toilet, as lik...</td>\n",
       "    </tr>\n",
       "    <tr>\n",
       "      <th>564</th>\n",
       "      <td>there was there was one very peculiar case in...</td>\n",
       "      <td>There was one very peculiar case from a very l...</td>\n",
       "      <td>There being one too peculiar case from the too...</td>\n",
       "    </tr>\n",
       "    <tr>\n",
       "      <th>565</th>\n",
       "      <td>I think Premchand also in his all through his....</td>\n",
       "      <td>I believe that Premchand, throughout his liter...</td>\n",
       "      <td>Am believing that Premchand, his literary care...</td>\n",
       "    </tr>\n",
       "    <tr>\n",
       "      <th>566</th>\n",
       "      <td>France in Europe France France has got so in t...</td>\n",
       "      <td>In France, in Europe, the current government i...</td>\n",
       "      <td>France, Europe, the current government is incl...</td>\n",
       "    </tr>\n",
       "    <tr>\n",
       "      <th>567</th>\n",
       "      <td>Premchand has always attacked on the exact cau...</td>\n",
       "      <td>Premchand consistently criticized the root cau...</td>\n",
       "      <td>Premchand consistently criticized root causes ...</td>\n",
       "    </tr>\n",
       "  </tbody>\n",
       "</table>\n",
       "<p>568 rows × 3 columns</p>\n",
       "</div>"
      ],
      "text/plain": [
       "                                                  text  \\\n",
       "0                                     In your college?   \n",
       "1                                Regional language no?   \n",
       "2                                    Oh your medicine?   \n",
       "3                                    For simplest one?   \n",
       "4                                   Yeah. Which patil.   \n",
       "..                                                 ...   \n",
       "563  That girl she had to go in that common lavotor...   \n",
       "564   there was there was one very peculiar case in...   \n",
       "565  I think Premchand also in his all through his....   \n",
       "566  France in Europe France France has got so in t...   \n",
       "567  Premchand has always attacked on the exact cau...   \n",
       "\n",
       "                                           translation  \\\n",
       "0                             Is that in your college?   \n",
       "1                 It is a regional language, isn't it?   \n",
       "2                               Is this your medicine?   \n",
       "3                        Do you mean the simplest one?   \n",
       "4                              Yeah. Which one, Patil?   \n",
       "..                                                 ...   \n",
       "563  The woman had to use a shared toilet, as is co...   \n",
       "564  There was one very peculiar case from a very l...   \n",
       "565  I believe that Premchand, throughout his liter...   \n",
       "566  In France, in Europe, the current government i...   \n",
       "567  Premchand consistently criticized the root cau...   \n",
       "\n",
       "                                                 multi  \n",
       "0                             In your college Is that?  \n",
       "1                     Is the regional language, isn't?  \n",
       "2                                  This your medicine?  \n",
       "3                 You mean the simplest one, isn't it?  \n",
       "4                              Yeah. Which one, Patil?  \n",
       "..                                                 ...  \n",
       "563  Woman had had to use one shared toilet, as lik...  \n",
       "564  There being one too peculiar case from the too...  \n",
       "565  Am believing that Premchand, his literary care...  \n",
       "566  France, Europe, the current government is incl...  \n",
       "567  Premchand consistently criticized root causes ...  \n",
       "\n",
       "[568 rows x 3 columns]"
      ]
     },
     "execution_count": 10,
     "metadata": {},
     "output_type": "execute_result"
    }
   ],
   "source": [
    "data = data.loc[~(data[\"multi\"] == \"ERROR\")].reset_index(drop=True)\n",
    "data"
   ]
  },
  {
   "cell_type": "code",
   "execution_count": 22,
   "id": "5285e44b",
   "metadata": {},
   "outputs": [],
   "source": [
    "data = pd.read_csv(\"../data/questions.csv\")\n",
    "data[\"text\"] = data[\"text\"].apply(lambda x:x.lower())\n",
    "data[\"translated\"] = data[\"translated\"].apply(lambda x:x.lower())\n",
    "data[\"multi\"] = data[\"multi\"].apply(lambda x:x.lower())\n",
    "data.to_csv(\"../data/questions.csv\", index = False, encoding=\"ascii\", errors=\"ignore\")"
   ]
  },
  {
   "cell_type": "code",
   "execution_count": null,
   "id": "4adfd8ae",
   "metadata": {},
   "outputs": [],
   "source": []
  }
 ],
 "metadata": {
  "kernelspec": {
   "display_name": ".venv",
   "language": "python",
   "name": "python3"
  },
  "language_info": {
   "codemirror_mode": {
    "name": "ipython",
    "version": 3
   },
   "file_extension": ".py",
   "mimetype": "text/x-python",
   "name": "python",
   "nbconvert_exporter": "python",
   "pygments_lexer": "ipython3",
   "version": "3.11.9"
  }
 },
 "nbformat": 4,
 "nbformat_minor": 5
}
